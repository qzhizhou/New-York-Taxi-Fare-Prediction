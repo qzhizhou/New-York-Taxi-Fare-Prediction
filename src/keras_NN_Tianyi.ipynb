{
 "cells": [
  {
   "cell_type": "code",
   "execution_count": 1,
   "metadata": {
    "scrolled": true
   },
   "outputs": [
    {
     "data": {
      "text/plain": [
       "Unnamed: 0              int64\n",
       "key                    object\n",
       "fare_amount           float64\n",
       "pickup_datetime        object\n",
       "pickup_longitude      float64\n",
       "pickup_latitude       float64\n",
       "dropoff_longitude     float64\n",
       "dropoff_latitude      float64\n",
       "passenger_count         int64\n",
       "abs_diff_longitude    float64\n",
       "abs_diff_latitude     float64\n",
       "dtype: object"
      ]
     },
     "execution_count": 1,
     "metadata": {},
     "output_type": "execute_result"
    }
   ],
   "source": [
    "import numpy as np\n",
    "import pandas as pd\n",
    "import os\n",
    "\n",
    "DATASET_SIZE = 6000000\n",
    "\n",
    "train = pd.read_csv('./Train_Processed_4.23.csv', nrows=DATASET_SIZE)\n",
    "train.dtypes"
   ]
  },
  {
   "cell_type": "code",
   "execution_count": 2,
   "metadata": {},
   "outputs": [
    {
     "data": {
      "text/plain": [
       "Unnamed: 0                     int64\n",
       "key                           object\n",
       "fare_amount                  float64\n",
       "pickup_datetime       datetime64[ns]\n",
       "pickup_longitude             float64\n",
       "pickup_latitude              float64\n",
       "dropoff_longitude            float64\n",
       "dropoff_latitude             float64\n",
       "passenger_count                int64\n",
       "abs_diff_longitude           float64\n",
       "abs_diff_latitude            float64\n",
       "euclidean                    float64\n",
       "manhattan                    float64\n",
       "year                           int64\n",
       "month                          int64\n",
       "day                            int64\n",
       "hour                           int64\n",
       "weekday                        int64\n",
       "dtype: object"
      ]
     },
     "execution_count": 2,
     "metadata": {},
     "output_type": "execute_result"
    }
   ],
   "source": [
    "# Add features\n",
    "    \n",
    "def add_distances_features(df):\n",
    "    df['euclidean'] = (df['abs_diff_longitude'] ** 2 + df['abs_diff_latitude'] ** 2) ** 0.5\n",
    "    df['manhattan'] = df['abs_diff_longitude'] + df['abs_diff_latitude']\n",
    "\n",
    "def add_time_features(df):\n",
    "    df['pickup_datetime'] =  pd.to_datetime(df['pickup_datetime'], format='%Y-%m-%d %H:%M:%S %Z')\n",
    "    df['year'] = df['pickup_datetime'].apply(lambda x: x.year)\n",
    "    df['month'] = df['pickup_datetime'].apply(lambda x: x.month)\n",
    "    df['day'] = df['pickup_datetime'].apply(lambda x: x.day)\n",
    "    df['hour'] = df['pickup_datetime'].apply(lambda x: x.hour)\n",
    "    df['weekday'] = df['pickup_datetime'].apply(lambda x: x.weekday())\n",
    "    \n",
    "    # Drop 'pickup_datetime' as we won't need it anymore\n",
    "    df = df.drop('pickup_datetime', axis=1)\n",
    "    \n",
    "add_distances_features(train)\n",
    "add_time_features(train)\n",
    "train.dtypes"
   ]
  },
  {
   "cell_type": "code",
   "execution_count": 3,
   "metadata": {},
   "outputs": [
    {
     "data": {
      "text/plain": [
       "fare_amount           float64\n",
       "passenger_count         int64\n",
       "abs_diff_longitude    float64\n",
       "abs_diff_latitude     float64\n",
       "euclidean             float64\n",
       "manhattan             float64\n",
       "year                    int64\n",
       "month                   int64\n",
       "day                     int64\n",
       "hour                    int64\n",
       "weekday                 int64\n",
       "dtype: object"
      ]
     },
     "execution_count": 3,
     "metadata": {},
     "output_type": "execute_result"
    }
   ],
   "source": [
    "# Drop unwanted columns\n",
    "dropped_columns = ['Unnamed: 0', 'key', 'pickup_datetime', 'pickup_longitude', 'pickup_latitude', 'dropoff_longitude',\n",
    "                  'dropoff_latitude']\n",
    "\n",
    "train_clean = train.drop(dropped_columns, axis=1)\n",
    "train_clean.dtypes"
   ]
  },
  {
   "cell_type": "code",
   "execution_count": 4,
   "metadata": {},
   "outputs": [
    {
     "data": {
      "text/plain": [
       "passenger_count         int64\n",
       "abs_diff_longitude    float64\n",
       "abs_diff_latitude     float64\n",
       "euclidean             float64\n",
       "manhattan             float64\n",
       "year                    int64\n",
       "month                   int64\n",
       "day                     int64\n",
       "hour                    int64\n",
       "weekday                 int64\n",
       "dtype: object"
      ]
     },
     "execution_count": 4,
     "metadata": {},
     "output_type": "execute_result"
    }
   ],
   "source": [
    "# Get labels\n",
    "\n",
    "train_labels = train_clean['fare_amount'].values\n",
    "train_df = train_clean.drop(['fare_amount'], axis=1)\n",
    "\n",
    "train_df.dtypes"
   ]
  },
  {
   "cell_type": "code",
   "execution_count": 5,
   "metadata": {},
   "outputs": [
    {
     "name": "stderr",
     "output_type": "stream",
     "text": [
      "C:\\Users\\tty81\\Anaconda3\\lib\\site-packages\\sklearn\\preprocessing\\data.py:323: DataConversionWarning: Data with input dtype int64, float64 were all converted to float64 by MinMaxScaler.\n",
      "  return self.partial_fit(X, y)\n"
     ]
    }
   ],
   "source": [
    "from sklearn.preprocessing import MinMaxScaler\n",
    "\n",
    "# Scale data\n",
    "scaler = MinMaxScaler()\n",
    "train_df_scaled = scaler.fit_transform(train_df)"
   ]
  },
  {
   "cell_type": "code",
   "execution_count": 6,
   "metadata": {},
   "outputs": [
    {
     "name": "stderr",
     "output_type": "stream",
     "text": [
      "Using TensorFlow backend.\n"
     ]
    },
    {
     "name": "stdout",
     "output_type": "stream",
     "text": [
      "WARNING:tensorflow:From C:\\Users\\tty81\\Anaconda3\\lib\\site-packages\\tensorflow\\python\\framework\\op_def_library.py:263: colocate_with (from tensorflow.python.framework.ops) is deprecated and will be removed in a future version.\n",
      "Instructions for updating:\n",
      "Colocations handled automatically by placer.\n",
      "_________________________________________________________________\n",
      "Layer (type)                 Output Shape              Param #   \n",
      "=================================================================\n",
      "dense_1 (Dense)              (None, 256)               2816      \n",
      "_________________________________________________________________\n",
      "batch_normalization_1 (Batch (None, 256)               1024      \n",
      "_________________________________________________________________\n",
      "dense_2 (Dense)              (None, 128)               32896     \n",
      "_________________________________________________________________\n",
      "batch_normalization_2 (Batch (None, 128)               512       \n",
      "_________________________________________________________________\n",
      "dense_3 (Dense)              (None, 64)                8256      \n",
      "_________________________________________________________________\n",
      "batch_normalization_3 (Batch (None, 64)                256       \n",
      "_________________________________________________________________\n",
      "dense_4 (Dense)              (None, 32)                2080      \n",
      "_________________________________________________________________\n",
      "batch_normalization_4 (Batch (None, 32)                128       \n",
      "_________________________________________________________________\n",
      "dense_5 (Dense)              (None, 8)                 264       \n",
      "_________________________________________________________________\n",
      "batch_normalization_5 (Batch (None, 8)                 32        \n",
      "_________________________________________________________________\n",
      "dense_6 (Dense)              (None, 1)                 9         \n",
      "=================================================================\n",
      "Total params: 48,273\n",
      "Trainable params: 47,297\n",
      "Non-trainable params: 976\n",
      "_________________________________________________________________\n"
     ]
    }
   ],
   "source": [
    "from keras.models import Sequential\n",
    "from keras.layers import Dense, Dropout, BatchNormalization\n",
    "from keras import optimizers\n",
    "from keras import regularizers\n",
    "# Build DNN model\n",
    "\n",
    "LEARNING_RATE = 0.001\n",
    "BATCH_SIZE = 3000\n",
    "EPOCHS = 20\n",
    "\n",
    "model = Sequential()\n",
    "model.add(Dense(256, activation='relu', input_dim=train_df_scaled.shape[1]))\n",
    "model.add(BatchNormalization())\n",
    "model.add(Dense(128, activation='relu'))\n",
    "model.add(BatchNormalization())\n",
    "model.add(Dense(64, activation='relu'))\n",
    "model.add(BatchNormalization())\n",
    "model.add(Dense(32, activation='relu'))\n",
    "model.add(BatchNormalization())\n",
    "model.add(Dense(8, activation='relu'))\n",
    "model.add(BatchNormalization())\n",
    "model.add(Dense(1, activation='linear'))\n",
    "\n",
    "adam = optimizers.adam(lr=LEARNING_RATE)\n",
    "model.compile(loss='mse', optimizer=adam, metrics=['mae'])\n",
    "\n",
    "model.summary()"
   ]
  },
  {
   "cell_type": "code",
   "execution_count": 7,
   "metadata": {},
   "outputs": [
    {
     "name": "stdout",
     "output_type": "stream",
     "text": [
      "WARNING:tensorflow:From C:\\Users\\tty81\\Anaconda3\\lib\\site-packages\\tensorflow\\python\\ops\\math_ops.py:3066: to_int32 (from tensorflow.python.ops.math_ops) is deprecated and will be removed in a future version.\n",
      "Instructions for updating:\n",
      "Use tf.cast instead.\n",
      "Train on 5700000 samples, validate on 300000 samples\n",
      "Epoch 1/20\n",
      "5700000/5700000 [==============================] - 24s 4us/step - loss: 52.2420 - mean_absolute_error: 4.6009 - val_loss: 19.6843 - val_mean_absolute_error: 2.1916\n",
      "Epoch 2/20\n",
      "5700000/5700000 [==============================] - 20s 4us/step - loss: 19.1614 - mean_absolute_error: 1.9939 - val_loss: 20.0496 - val_mean_absolute_error: 2.1395\n",
      "Epoch 3/20\n",
      "5700000/5700000 [==============================] - 20s 4us/step - loss: 18.8975 - mean_absolute_error: 1.9671 - val_loss: 18.2807 - val_mean_absolute_error: 2.0121\n",
      "Epoch 4/20\n",
      "5700000/5700000 [==============================] - 20s 4us/step - loss: 18.6992 - mean_absolute_error: 1.9529 - val_loss: 18.0174 - val_mean_absolute_error: 1.9723\n",
      "Epoch 5/20\n",
      "5700000/5700000 [==============================] - 20s 4us/step - loss: 18.4803 - mean_absolute_error: 1.9382 - val_loss: 18.1501 - val_mean_absolute_error: 1.9916\n",
      "Epoch 6/20\n",
      "5700000/5700000 [==============================] - 20s 4us/step - loss: 18.3199 - mean_absolute_error: 1.9253 - val_loss: 18.8187 - val_mean_absolute_error: 2.0199\n",
      "Epoch 7/20\n",
      "5700000/5700000 [==============================] - 20s 4us/step - loss: 18.2804 - mean_absolute_error: 1.9198 - val_loss: 18.1425 - val_mean_absolute_error: 2.0702\n",
      "Epoch 8/20\n",
      "5700000/5700000 [==============================] - 20s 4us/step - loss: 18.1759 - mean_absolute_error: 1.9132 - val_loss: 18.1174 - val_mean_absolute_error: 1.9275\n",
      "Epoch 9/20\n",
      "5700000/5700000 [==============================] - 20s 4us/step - loss: 18.1230 - mean_absolute_error: 1.9091 - val_loss: 18.0285 - val_mean_absolute_error: 2.0091\n",
      "Epoch 10/20\n",
      "5700000/5700000 [==============================] - 20s 4us/step - loss: 18.0629 - mean_absolute_error: 1.9034 - val_loss: 17.7196 - val_mean_absolute_error: 1.9163\n",
      "Epoch 11/20\n",
      "5700000/5700000 [==============================] - 20s 4us/step - loss: 17.9843 - mean_absolute_error: 1.9004 - val_loss: 17.6577 - val_mean_absolute_error: 1.9424\n",
      "Epoch 12/20\n",
      "5700000/5700000 [==============================] - 20s 4us/step - loss: 17.9817 - mean_absolute_error: 1.8986 - val_loss: 17.8520 - val_mean_absolute_error: 1.8648\n",
      "Epoch 13/20\n",
      "5700000/5700000 [==============================] - 20s 4us/step - loss: 17.9547 - mean_absolute_error: 1.8982 - val_loss: 17.7412 - val_mean_absolute_error: 1.9000\n",
      "Epoch 14/20\n",
      "5700000/5700000 [==============================] - 20s 4us/step - loss: 17.9144 - mean_absolute_error: 1.8944 - val_loss: 17.7772 - val_mean_absolute_error: 1.8931\n",
      "Epoch 15/20\n",
      "5700000/5700000 [==============================] - 20s 4us/step - loss: 17.9046 - mean_absolute_error: 1.8946 - val_loss: 18.0093 - val_mean_absolute_error: 1.9753\n",
      "Epoch 16/20\n",
      "5700000/5700000 [==============================] - 20s 4us/step - loss: 17.8868 - mean_absolute_error: 1.8932 - val_loss: 18.3723 - val_mean_absolute_error: 2.0964\n",
      "Epoch 17/20\n",
      "5700000/5700000 [==============================] - 20s 4us/step - loss: 17.9013 - mean_absolute_error: 1.8929 - val_loss: 17.6357 - val_mean_absolute_error: 1.8823\n",
      "Epoch 18/20\n",
      "5700000/5700000 [==============================] - 20s 4us/step - loss: 17.8261 - mean_absolute_error: 1.8888 - val_loss: 17.5045 - val_mean_absolute_error: 1.8612\n",
      "Epoch 19/20\n",
      "5700000/5700000 [==============================] - 20s 4us/step - loss: 17.8382 - mean_absolute_error: 1.8894 - val_loss: 17.9258 - val_mean_absolute_error: 1.9667\n",
      "Epoch 20/20\n",
      "5700000/5700000 [==============================] - 20s 4us/step - loss: 17.8149 - mean_absolute_error: 1.8876 - val_loss: 17.8648 - val_mean_absolute_error: 1.8890\n"
     ]
    }
   ],
   "source": [
    "# Train model\n",
    "history = model.fit(x=train_df_scaled, y=train_labels, batch_size=BATCH_SIZE, \n",
    "                    epochs=EPOCHS, verbose=1, validation_split=0.05, shuffle=True)"
   ]
  },
  {
   "cell_type": "code",
   "execution_count": 15,
   "metadata": {},
   "outputs": [
    {
     "data": {
      "image/png": "[encoded data removed]",
      "text/plain": [
       "<Figure size 1440x720 with 1 Axes>"
      ]
     },
     "metadata": {
      "needs_background": "light"
     },
     "output_type": "display_data"
    }
   ],
   "source": [
    "import matplotlib.pyplot as plt\n",
    "\n",
    "def plot_loss_accuracy(history):\n",
    "    plt.figure(figsize=(20, 10))\n",
    "    plt.plot(history.history['loss'])\n",
    "    plt.plot(history.history['val_loss'])\n",
    "    plt.title('model loss')\n",
    "    plt.ylabel('loss')\n",
    "    plt.xlabel('epoch')\n",
    "    plt.legend(['training', 'validation'], loc='upper right')\n",
    "    plt.show()\n",
    "\n",
    "plot_loss_accuracy(history)"
   ]
  },
  {
   "cell_type": "code",
   "execution_count": 9,
   "metadata": {},
   "outputs": [],
   "source": [
    "test = pd.read_csv('./test.csv')\n",
    "\n",
    "def add_travel_vector_features(df):\n",
    "    df['abs_diff_longitude'] = (df.dropoff_longitude - df.pickup_longitude).abs()\n",
    "    df['abs_diff_latitude'] = (df.dropoff_latitude - df.pickup_latitude).abs()\n",
    "    \n",
    "add_travel_vector_features(test)"
   ]
  },
  {
   "cell_type": "code",
   "execution_count": 10,
   "metadata": {},
   "outputs": [
    {
     "data": {
      "text/plain": [
       "key                           object\n",
       "pickup_datetime       datetime64[ns]\n",
       "pickup_longitude             float64\n",
       "pickup_latitude              float64\n",
       "dropoff_longitude            float64\n",
       "dropoff_latitude             float64\n",
       "passenger_count                int64\n",
       "abs_diff_longitude           float64\n",
       "abs_diff_latitude            float64\n",
       "euclidean                    float64\n",
       "manhattan                    float64\n",
       "year                           int64\n",
       "month                          int64\n",
       "day                            int64\n",
       "hour                           int64\n",
       "weekday                        int64\n",
       "dtype: object"
      ]
     },
     "execution_count": 10,
     "metadata": {},
     "output_type": "execute_result"
    }
   ],
   "source": [
    "add_distances_features(test)\n",
    "add_time_features(test)\n",
    "test.dtypes"
   ]
  },
  {
   "cell_type": "code",
   "execution_count": 11,
   "metadata": {},
   "outputs": [
    {
     "data": {
      "text/plain": [
       "passenger_count         int64\n",
       "abs_diff_longitude    float64\n",
       "abs_diff_latitude     float64\n",
       "euclidean             float64\n",
       "manhattan             float64\n",
       "year                    int64\n",
       "month                   int64\n",
       "day                     int64\n",
       "hour                    int64\n",
       "weekday                 int64\n",
       "dtype: object"
      ]
     },
     "execution_count": 11,
     "metadata": {},
     "output_type": "execute_result"
    }
   ],
   "source": [
    "# Drop unwanted columns\n",
    "dropped_columns = ['key', 'pickup_datetime', 'pickup_longitude', 'pickup_latitude', 'dropoff_longitude',\n",
    "                  'dropoff_latitude']\n",
    "\n",
    "test_clean = test.drop(dropped_columns, axis=1)\n",
    "test_clean.dtypes"
   ]
  },
  {
   "cell_type": "code",
   "execution_count": 12,
   "metadata": {},
   "outputs": [],
   "source": [
    "test_scaled = scaler.transform(test_clean)"
   ]
  },
  {
   "cell_type": "code",
   "execution_count": 13,
   "metadata": {},
   "outputs": [
    {
     "name": "stdout",
     "output_type": "stream",
     "text": [
      "9914/9914 [==============================] - 0s 21us/step\n"
     ]
    }
   ],
   "source": [
    "prediction = model.predict(test_scaled, batch_size=128, verbose=1)"
   ]
  },
  {
   "cell_type": "code",
   "execution_count": 14,
   "metadata": {},
   "outputs": [
    {
     "name": "stdout",
     "output_type": "stream",
     "text": [
      "Output complete\n"
     ]
    }
   ],
   "source": [
    "def output_submission(raw_test, prediction, id_column, prediction_column, file_name):\n",
    "    df = pd.DataFrame(prediction, columns=[prediction_column])\n",
    "    df[id_column] = raw_test[id_column]\n",
    "    df[[id_column, prediction_column]].to_csv((file_name), index=False)\n",
    "    print('Output complete')\n",
    "\n",
    "# output prediction\n",
    "output_submission(test, prediction, 'key', 'fare_amount', 'more_feature_epo20_2.csv')"
   ]
  }
 ],
 "metadata": {
  "kernelspec": {
   "display_name": "Python 3",
   "language": "python",
   "name": "python3"
  },
  "language_info": {
   "codemirror_mode": {
    "name": "ipython",
    "version": 3
   },
   "file_extension": ".py",
   "mimetype": "text/x-python",
   "name": "python",
   "nbconvert_exporter": "python",
   "pygments_lexer": "ipython3",
   "version": "3.7.1"
  }
 },
 "nbformat": 4,
 "nbformat_minor": 2
}
